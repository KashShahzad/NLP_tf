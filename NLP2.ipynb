{
  "nbformat": 4,
  "nbformat_minor": 0,
  "metadata": {
    "colab": {
      "name": "NLP2.ipynb",
      "provenance": [],
      "collapsed_sections": []
    },
    "kernelspec": {
      "name": "python3",
      "display_name": "Python 3"
    },
    "accelerator": "GPU"
  },
  "cells": [
    {
      "cell_type": "code",
      "metadata": {
        "id": "XmG9okzTqfBa",
        "outputId": "1c3ea074-d4d7-4c14-ae8e-a5d2243d0d4f",
        "colab": {
          "base_uri": "https://localhost:8080/",
          "height": 109
        }
      },
      "source": [
        "%tensorflow_version 2.x  # this line is not required unless you are in a notebook\n",
        "from keras.preprocessing import sequence\n",
        "import keras\n",
        "import tensorflow as tf\n",
        "import os\n",
        "import numpy as np"
      ],
      "execution_count": 2,
      "outputs": [
        {
          "output_type": "stream",
          "text": [
            "`%tensorflow_version` only switches the major version: 1.x or 2.x.\n",
            "You set: `2.x  # this line is not required unless you are in a notebook`. This will be interpreted as: `2.x`.\n",
            "\n",
            "\n",
            "TensorFlow 2.x selected.\n"
          ],
          "name": "stdout"
        }
      ]
    },
    {
      "cell_type": "code",
      "metadata": {
        "id": "4a13Vmlfqiai",
        "outputId": "e385150c-2997-4200-a33e-39cbebf05729",
        "colab": {
          "base_uri": "https://localhost:8080/",
          "height": 54
        }
      },
      "source": [
        "path_to_file = tf.keras.utils.get_file('shakespeare.txt', 'https://storage.googleapis.com/download.tensorflow.org/data/shakespeare.txt')"
      ],
      "execution_count": 3,
      "outputs": [
        {
          "output_type": "stream",
          "text": [
            "Downloading data from https://storage.googleapis.com/download.tensorflow.org/data/shakespeare.txt\n",
            "1122304/1115394 [==============================] - 0s 0us/step\n"
          ],
          "name": "stdout"
        }
      ]
    },
    {
      "cell_type": "code",
      "metadata": {
        "id": "_v6_We75s1jR"
      },
      "source": [
        "# OR we can choose a file from local computer\n",
        "from google.colab import files\n",
        "path_to_file = list(files.upload().keys())[0]"
      ],
      "execution_count": null,
      "outputs": []
    },
    {
      "cell_type": "code",
      "metadata": {
        "id": "obbo0PpdqwLY",
        "outputId": "5a2c66e0-b3f9-4318-b306-582331933105",
        "colab": {
          "base_uri": "https://localhost:8080/",
          "height": 35
        }
      },
      "source": [
        "# Read, then decode for py2 compat.\n",
        "text = open(path_to_file, 'rb').read().decode(encoding='utf-8')\n",
        "# length of text is the number of characters in it\n",
        "print ('Length of text: {} characters'.format(len(text)))"
      ],
      "execution_count": 5,
      "outputs": [
        {
          "output_type": "stream",
          "text": [
            "Length of text: 1115394 characters\n"
          ],
          "name": "stdout"
        }
      ]
    },
    {
      "cell_type": "code",
      "metadata": {
        "id": "MocbdwZrqzXA",
        "outputId": "293e6cb5-418d-451b-8ee8-04cf0ff5389e",
        "colab": {
          "base_uri": "https://localhost:8080/",
          "height": 293
        }
      },
      "source": [
        "# Take a look at the first 250 characters in text\n",
        "print(text[:250])"
      ],
      "execution_count": 6,
      "outputs": [
        {
          "output_type": "stream",
          "text": [
            "First Citizen:\n",
            "Before we proceed any further, hear me speak.\n",
            "\n",
            "All:\n",
            "Speak, speak.\n",
            "\n",
            "First Citizen:\n",
            "You are all resolved rather to die than to famish?\n",
            "\n",
            "All:\n",
            "Resolved. resolved.\n",
            "\n",
            "First Citizen:\n",
            "First, you know Caius Marcius is chief enemy to the people.\n",
            "\n"
          ],
          "name": "stdout"
        }
      ]
    },
    {
      "cell_type": "code",
      "metadata": {
        "id": "NK7aEX4Aq19C"
      },
      "source": [
        "vocab = sorted(set(text))\n",
        "# Creating a mapping from unique characters to indices\n",
        "char2idx = {u:i for i, u in enumerate(vocab)}\n",
        "idx2char = np.array(vocab)\n",
        "\n",
        "def text_to_int(text):\n",
        "  return np.array([char2idx[c] for c in text])\n",
        "\n",
        "text_as_int = text_to_int(text)"
      ],
      "execution_count": 7,
      "outputs": []
    },
    {
      "cell_type": "code",
      "metadata": {
        "id": "QEgfrroMq5SR",
        "outputId": "dff2d136-af05-4ff3-8bb8-d4d6a33721a2",
        "colab": {
          "base_uri": "https://localhost:8080/",
          "height": 54
        }
      },
      "source": [
        "# lets look at how part of our text is encoded\n",
        "print(\"Text:\", text[:13])\n",
        "print(\"Encoded:\", text_to_int(text[:13]))"
      ],
      "execution_count": 8,
      "outputs": [
        {
          "output_type": "stream",
          "text": [
            "Text: First Citizen\n",
            "Encoded: [18 47 56 57 58  1 15 47 58 47 64 43 52]\n"
          ],
          "name": "stdout"
        }
      ]
    },
    {
      "cell_type": "code",
      "metadata": {
        "id": "hKBcADF9q9iy",
        "outputId": "6b11da2e-ca51-4ea0-f87e-300e3bfaa3c4",
        "colab": {
          "base_uri": "https://localhost:8080/",
          "height": 35
        }
      },
      "source": [
        "def int_to_text(ints):\n",
        "  try:\n",
        "    ints = ints.numpy()\n",
        "  except:\n",
        "    pass\n",
        "  return ''.join(idx2char[ints])\n",
        "\n",
        "print(int_to_text(text_as_int[:13]))"
      ],
      "execution_count": 9,
      "outputs": [
        {
          "output_type": "stream",
          "text": [
            "First Citizen\n"
          ],
          "name": "stdout"
        }
      ]
    },
    {
      "cell_type": "code",
      "metadata": {
        "id": "qbLWx9P9rByR"
      },
      "source": [
        "seq_length = 100  # length of sequence for a training example\n",
        "examples_per_epoch = len(text)//(seq_length+1)\n",
        "\n",
        "# Create training examples / targets\n",
        "char_dataset = tf.data.Dataset.from_tensor_slices(text_as_int)"
      ],
      "execution_count": 10,
      "outputs": []
    },
    {
      "cell_type": "code",
      "metadata": {
        "id": "DdgEBd1RrIjB"
      },
      "source": [
        "sequences = char_dataset.batch(seq_length+1, drop_remainder=True)"
      ],
      "execution_count": 11,
      "outputs": []
    },
    {
      "cell_type": "code",
      "metadata": {
        "id": "StT1SPjVrNYQ"
      },
      "source": [
        "def split_input_target(chunk):  # for the example: hello\n",
        "    input_text = chunk[:-1]  # hell\n",
        "    target_text = chunk[1:]  # ello\n",
        "    return input_text, target_text  # hell, ello\n",
        "\n",
        "dataset = sequences.map(split_input_target)  # we use map to apply the above function to every entry"
      ],
      "execution_count": 12,
      "outputs": []
    },
    {
      "cell_type": "code",
      "metadata": {
        "id": "tEWnBi3yrOKx",
        "outputId": "de675ceb-99b3-475d-8a95-f3d844855bc2",
        "colab": {
          "base_uri": "https://localhost:8080/",
          "height": 825
        }
      },
      "source": [
        "for x, y in dataset.take(2):\n",
        "  print(\"\\n\\nEXAMPLE\\n\")\n",
        "  print(\"INPUT\")\n",
        "  print(int_to_text(x))\n",
        "  print(\"\\nOUTPUT\")\n",
        "  print(int_to_text(y))"
      ],
      "execution_count": 13,
      "outputs": [
        {
          "output_type": "stream",
          "text": [
            "\n",
            "\n",
            "EXAMPLE\n",
            "\n",
            "INPUT\n",
            "First Citizen:\n",
            "Before we proceed any further, hear me speak.\n",
            "\n",
            "All:\n",
            "Speak, speak.\n",
            "\n",
            "First Citizen:\n",
            "You\n",
            "\n",
            "OUTPUT\n",
            "irst Citizen:\n",
            "Before we proceed any further, hear me speak.\n",
            "\n",
            "All:\n",
            "Speak, speak.\n",
            "\n",
            "First Citizen:\n",
            "You \n",
            "\n",
            "\n",
            "EXAMPLE\n",
            "\n",
            "INPUT\n",
            "are all resolved rather to die than to famish?\n",
            "\n",
            "All:\n",
            "Resolved. resolved.\n",
            "\n",
            "First Citizen:\n",
            "First, you \n",
            "\n",
            "OUTPUT\n",
            "re all resolved rather to die than to famish?\n",
            "\n",
            "All:\n",
            "Resolved. resolved.\n",
            "\n",
            "First Citizen:\n",
            "First, you k\n"
          ],
          "name": "stdout"
        }
      ]
    },
    {
      "cell_type": "code",
      "metadata": {
        "id": "yx-ElCIqrRR5"
      },
      "source": [
        "BATCH_SIZE = 64\n",
        "VOCAB_SIZE = len(vocab)  # vocab is number of unique characters\n",
        "EMBEDDING_DIM = 256\n",
        "RNN_UNITS = 1024\n",
        "\n",
        "# Buffer size to shuffle the dataset\n",
        "# (TF data is designed to work with possibly infinite sequences,\n",
        "# so it doesn't attempt to shuffle the entire sequence in memory. Instead,\n",
        "# it maintains a buffer in which it shuffles elements).\n",
        "BUFFER_SIZE = 10000\n",
        "\n",
        "data = dataset.shuffle(BUFFER_SIZE).batch(BATCH_SIZE, drop_remainder=True)"
      ],
      "execution_count": 14,
      "outputs": []
    },
    {
      "cell_type": "code",
      "metadata": {
        "id": "zX_33rdRrV_I",
        "outputId": "1456bfe1-362d-4bcd-d3bf-39ce8dbc497f",
        "colab": {
          "base_uri": "https://localhost:8080/",
          "height": 274
        }
      },
      "source": [
        "def build_model(vocab_size, embedding_dim, rnn_units, batch_size):\n",
        "  model = tf.keras.Sequential([\n",
        "    tf.keras.layers.Embedding(vocab_size, embedding_dim,\n",
        "                              batch_input_shape=[batch_size, None]),\n",
        "    tf.keras.layers.LSTM(rnn_units,\n",
        "                        return_sequences=True,\n",
        "                        stateful=True,\n",
        "                        recurrent_initializer='glorot_uniform'),\n",
        "    tf.keras.layers.Dense(vocab_size)\n",
        "  ])\n",
        "  return model\n",
        "\n",
        "model = build_model(VOCAB_SIZE,EMBEDDING_DIM, RNN_UNITS, BATCH_SIZE)\n",
        "model.summary()"
      ],
      "execution_count": 15,
      "outputs": [
        {
          "output_type": "stream",
          "text": [
            "Model: \"sequential\"\n",
            "_________________________________________________________________\n",
            "Layer (type)                 Output Shape              Param #   \n",
            "=================================================================\n",
            "embedding (Embedding)        (64, None, 256)           16640     \n",
            "_________________________________________________________________\n",
            "lstm (LSTM)                  (64, None, 1024)          5246976   \n",
            "_________________________________________________________________\n",
            "dense (Dense)                (64, None, 65)            66625     \n",
            "=================================================================\n",
            "Total params: 5,330,241\n",
            "Trainable params: 5,330,241\n",
            "Non-trainable params: 0\n",
            "_________________________________________________________________\n"
          ],
          "name": "stdout"
        }
      ]
    },
    {
      "cell_type": "code",
      "metadata": {
        "id": "GPTb4LywrdTJ",
        "outputId": "81bf9949-95c3-4f15-d959-9aff2169f19f",
        "colab": {
          "base_uri": "https://localhost:8080/",
          "height": 35
        }
      },
      "source": [
        "for input_example_batch, target_example_batch in data.take(1):\n",
        "  example_batch_predictions = model(input_example_batch)  # ask our model for a prediction on our first batch of training data (64 entries)\n",
        "  print(example_batch_predictions.shape, \"# (batch_size, sequence_length, vocab_size)\")  # print out the output shape"
      ],
      "execution_count": 16,
      "outputs": [
        {
          "output_type": "stream",
          "text": [
            "(64, 100, 65) # (batch_size, sequence_length, vocab_size)\n"
          ],
          "name": "stdout"
        }
      ]
    },
    {
      "cell_type": "code",
      "metadata": {
        "id": "Vmc7vNBhreD6",
        "outputId": "1fb0bc5e-4358-43b5-8136-914e5f7009dc",
        "colab": {
          "base_uri": "https://localhost:8080/",
          "height": 1000
        }
      },
      "source": [
        "# we can see that the predicition is an array of 64 arrays, one for each entry in the batch\n",
        "print(len(example_batch_predictions))\n",
        "print(example_batch_predictions)"
      ],
      "execution_count": 17,
      "outputs": [
        {
          "output_type": "stream",
          "text": [
            "64\n",
            "tf.Tensor(\n",
            "[[[ 2.45939032e-03 -8.70835967e-04 -4.71046474e-03 ...  4.52589896e-03\n",
            "    1.36262085e-03  6.56182994e-04]\n",
            "  [ 6.59943232e-03  2.97048478e-04  5.33989351e-03 ...  4.69408510e-03\n",
            "   -1.91215798e-03  5.00021596e-03]\n",
            "  [ 9.05392505e-03 -8.35602579e-04  3.35281785e-03 ...  2.43034307e-03\n",
            "   -1.23294890e-02  5.74197993e-03]\n",
            "  ...\n",
            "  [ 2.16487306e-03 -1.56734977e-03  5.15085692e-03 ...  6.05046470e-03\n",
            "   -1.58647802e-02  6.52140146e-03]\n",
            "  [-1.30376057e-03 -2.81111314e-03  1.61838578e-03 ...  7.56839337e-03\n",
            "   -5.50476881e-03  8.02735146e-03]\n",
            "  [-2.84257485e-03 -5.41110151e-03  6.80038705e-04 ...  1.41270962e-02\n",
            "   -2.90841889e-03  1.26127638e-02]]\n",
            "\n",
            " [[-2.25370808e-04 -3.71366041e-03 -9.37821242e-05 ...  8.94474145e-03\n",
            "    2.08685687e-03  5.44433109e-03]\n",
            "  [-5.78725431e-03 -6.64477237e-03  3.34943319e-03 ...  1.41648855e-02\n",
            "    1.71536882e-03  1.68450829e-03]\n",
            "  [-1.39602029e-03 -5.10429312e-03  5.78102563e-03 ...  1.25579070e-02\n",
            "   -6.56377850e-03  5.68584353e-03]\n",
            "  ...\n",
            "  [ 4.06988198e-03  3.28188034e-04  1.25994515e-02 ...  8.79644509e-03\n",
            "   -4.45210095e-03  1.19913230e-02]\n",
            "  [ 7.02620018e-03  5.70989214e-04  1.88394934e-02 ...  6.84877066e-03\n",
            "   -7.89280981e-03  1.28002791e-02]\n",
            "  [ 4.41585341e-03 -4.71140537e-03  1.49842612e-02 ...  3.57332965e-03\n",
            "   -8.62607174e-03  1.25381732e-02]]\n",
            "\n",
            " [[ 2.43518618e-04  2.59025721e-04 -1.56937796e-03 ... -2.41273642e-03\n",
            "   -2.97113042e-03 -1.34530477e-03]\n",
            "  [ 4.30397317e-03  1.26636657e-03 -2.15096492e-03 ... -2.04389263e-03\n",
            "   -1.22090094e-02  1.58766669e-03]\n",
            "  [ 1.52509729e-03  3.27039044e-04 -4.33327025e-03 ... -1.27061538e-03\n",
            "   -8.55210423e-03  4.72118496e-04]\n",
            "  ...\n",
            "  [ 3.03183170e-03 -3.21890414e-03  8.53618141e-03 ...  1.60222910e-02\n",
            "   -6.58127107e-03  9.98041406e-03]\n",
            "  [ 1.06680822e-02 -4.40407079e-03  8.58688913e-03 ...  4.85163555e-03\n",
            "   -3.46974644e-04  5.86901233e-03]\n",
            "  [ 5.42478822e-03 -5.50529268e-03  5.21836057e-03 ...  6.91125356e-03\n",
            "    6.28147926e-03  6.92804717e-03]]\n",
            "\n",
            " ...\n",
            "\n",
            " [[ 2.41146726e-03  2.28658505e-03  1.46306888e-03 ... -1.02825556e-03\n",
            "   -1.92383188e-03 -9.38280311e-04]\n",
            "  [ 6.87425211e-03  3.44345625e-03  2.31602602e-03 ... -5.90911182e-03\n",
            "   -6.15690369e-05  8.49482045e-03]\n",
            "  [ 3.98248527e-03 -7.42834993e-04 -6.97826676e-04 ... -4.89653088e-03\n",
            "   -1.11583155e-04  1.04717268e-02]\n",
            "  ...\n",
            "  [ 6.51850458e-03 -8.26415233e-03  1.41647831e-03 ...  7.21662119e-03\n",
            "   -1.35181230e-02  8.14904645e-03]\n",
            "  [ 1.82282762e-03 -7.56864063e-03 -2.31286837e-03 ...  8.44821520e-03\n",
            "   -3.01753241e-03  9.12902225e-03]\n",
            "  [-5.57096675e-04 -8.74705706e-03 -3.18522239e-03 ...  1.47149963e-02\n",
            "   -5.15715219e-04  1.33446511e-02]]\n",
            "\n",
            " [[ 2.79968139e-04 -4.28952836e-03  4.29095526e-04 ... -1.86502235e-04\n",
            "   -1.43436785e-03  3.95518448e-03]\n",
            "  [ 2.94012745e-04 -6.62831916e-03  6.88601867e-05 ...  8.47056694e-03\n",
            "    1.38448912e-03  8.83179158e-03]\n",
            "  [ 6.31742179e-04 -4.04995773e-03 -1.77603157e-03 ...  4.58600558e-03\n",
            "   -1.77444087e-03  5.23432856e-03]\n",
            "  ...\n",
            "  [-2.65650591e-03 -7.31253345e-03 -2.38397904e-03 ...  9.41406749e-03\n",
            "    9.33641382e-03  8.12870916e-03]\n",
            "  [ 1.42441457e-03 -7.08840881e-03 -1.03543401e-02 ...  7.56713515e-03\n",
            "    9.52092279e-03  5.07518090e-03]\n",
            "  [ 7.31917331e-04 -9.08300560e-03 -7.72956666e-03 ...  1.42144067e-02\n",
            "    9.51547921e-03  9.78514645e-03]]\n",
            "\n",
            " [[ 5.04671549e-03  8.32432648e-04  9.16252844e-03 ...  9.87789710e-04\n",
            "   -3.59232165e-03  4.94781649e-03]\n",
            "  [ 4.43590432e-03  2.26891390e-03  9.45040397e-03 ...  2.04820721e-03\n",
            "   -6.66586170e-03  1.40725716e-03]\n",
            "  [ 1.58353802e-03  1.97711028e-03  3.64529574e-03 ...  6.35937089e-04\n",
            "   -6.78165071e-03  5.41461690e-04]\n",
            "  ...\n",
            "  [ 2.67168856e-03 -4.11719363e-03 -5.85742295e-03 ... -1.70510425e-03\n",
            "   -3.50700808e-03 -4.11266182e-03]\n",
            "  [ 6.18662126e-03 -1.68759539e-03  4.14700573e-03 ... -2.94311903e-05\n",
            "   -5.58322482e-03  3.14546516e-03]\n",
            "  [ 3.56143923e-03 -5.20225801e-03  2.71198805e-03 ...  8.50205217e-03\n",
            "   -2.08357396e-03  8.68749060e-03]]], shape=(64, 100, 65), dtype=float32)\n"
          ],
          "name": "stdout"
        }
      ]
    },
    {
      "cell_type": "code",
      "metadata": {
        "id": "AaXn89_srg-P",
        "outputId": "22047513-fc19-46a4-b31f-96109888676b",
        "colab": {
          "base_uri": "https://localhost:8080/",
          "height": 293
        }
      },
      "source": [
        "# lets examine one prediction\n",
        "pred = example_batch_predictions[0]\n",
        "print(len(pred))\n",
        "print(pred)\n",
        "# notice this is a 2d array of length 100, where each interior array is the prediction for the next character at each time step"
      ],
      "execution_count": 18,
      "outputs": [
        {
          "output_type": "stream",
          "text": [
            "100\n",
            "tf.Tensor(\n",
            "[[ 0.00245939 -0.00087084 -0.00471046 ...  0.0045259   0.00136262\n",
            "   0.00065618]\n",
            " [ 0.00659943  0.00029705  0.00533989 ...  0.00469409 -0.00191216\n",
            "   0.00500022]\n",
            " [ 0.00905393 -0.0008356   0.00335282 ...  0.00243034 -0.01232949\n",
            "   0.00574198]\n",
            " ...\n",
            " [ 0.00216487 -0.00156735  0.00515086 ...  0.00605046 -0.01586478\n",
            "   0.0065214 ]\n",
            " [-0.00130376 -0.00281111  0.00161839 ...  0.00756839 -0.00550477\n",
            "   0.00802735]\n",
            " [-0.00284257 -0.0054111   0.00068004 ...  0.0141271  -0.00290842\n",
            "   0.01261276]], shape=(100, 65), dtype=float32)\n"
          ],
          "name": "stdout"
        }
      ]
    },
    {
      "cell_type": "code",
      "metadata": {
        "id": "sG8p6Pt2rkBg",
        "outputId": "1096a6ab-1d50-4a50-80e0-c268cc7db22b",
        "colab": {
          "base_uri": "https://localhost:8080/",
          "height": 366
        }
      },
      "source": [
        "# and finally well look at a prediction at the first timestep\n",
        "time_pred = pred[0]\n",
        "print(len(time_pred))\n",
        "print(time_pred)\n",
        "# and of course its 65 values representing the probabillity of each character occuring next"
      ],
      "execution_count": 19,
      "outputs": [
        {
          "output_type": "stream",
          "text": [
            "65\n",
            "tf.Tensor(\n",
            "[ 2.4593903e-03 -8.7083597e-04 -4.7104647e-03  2.6707388e-03\n",
            "  3.2696538e-03 -2.0349703e-03 -3.3969278e-03  2.2507881e-04\n",
            " -5.4245035e-04 -1.7111382e-03 -2.3526847e-03 -1.6777874e-03\n",
            "  6.8572012e-04 -4.4237674e-04 -1.7048402e-03  4.0355683e-03\n",
            "  9.0814068e-04  1.7200888e-03  2.1919340e-04 -5.3816698e-03\n",
            "  4.3119132e-03  5.2566440e-03 -3.7381786e-03 -8.2949642e-03\n",
            "  2.4706360e-03 -7.3506031e-03  9.7903481e-05 -4.9497345e-03\n",
            " -5.6728041e-03  2.5019650e-03  2.9974235e-03  3.9790892e-03\n",
            "  1.0027379e-03 -5.0721196e-03 -4.6809837e-03  6.3730031e-03\n",
            "  6.9960661e-05  1.1619832e-03 -2.2614205e-03  4.7469474e-03\n",
            " -2.5865948e-03  1.5001415e-03 -2.1517400e-03  4.3217437e-03\n",
            " -1.1783938e-03  4.2903447e-03  7.2906259e-05  1.6983986e-03\n",
            " -5.2233655e-03  6.1700714e-04 -1.0928609e-03 -2.2263136e-03\n",
            " -6.0043153e-03  1.9090769e-03 -7.6657243e-04  1.2645293e-03\n",
            " -4.4988561e-03 -5.7830140e-03 -3.0025817e-03  3.1540622e-03\n",
            " -3.4476891e-03  6.8194291e-04  4.5258990e-03  1.3626209e-03\n",
            "  6.5618299e-04], shape=(65,), dtype=float32)\n"
          ],
          "name": "stdout"
        }
      ]
    },
    {
      "cell_type": "code",
      "metadata": {
        "id": "MXXUPUckrm-v",
        "outputId": "87121d90-4531-42ec-c4c0-0b2c1a80001a",
        "colab": {
          "base_uri": "https://localhost:8080/",
          "height": 36
        }
      },
      "source": [
        "# If we want to determine the predicted character we need to sample the output distribution (pick a value based on probabillity)\n",
        "sampled_indices = tf.random.categorical(pred, num_samples=1)\n",
        "\n",
        "# now we can reshape that array and convert all the integers to numbers to see the actual characters\n",
        "sampled_indices = np.reshape(sampled_indices, (1, -1))[0]\n",
        "predicted_chars = int_to_text(sampled_indices)\n",
        "\n",
        "predicted_chars  # and this is what the model predicted for training sequence 1"
      ],
      "execution_count": 29,
      "outputs": [
        {
          "output_type": "execute_result",
          "data": {
            "application/vnd.google.colaboratory.intrinsic+json": {
              "type": "string"
            },
            "text/plain": [
              "\"Th $ZNS,xR;RT QYubUkXLZM,EI'.AawA,'G!-'yOB:r3G.nrFumsd$oPP&TYVIegmmCV?Lx vZ$qm BRBodiwW:OtATTBE?!.WJ\""
            ]
          },
          "metadata": {
            "tags": []
          },
          "execution_count": 29
        }
      ]
    },
    {
      "cell_type": "code",
      "metadata": {
        "id": "3q3kNPnZrqsJ"
      },
      "source": [
        "def loss(labels, logits):\n",
        "  return tf.keras.losses.sparse_categorical_crossentropy(labels, logits, from_logits=True)"
      ],
      "execution_count": 21,
      "outputs": []
    },
    {
      "cell_type": "code",
      "metadata": {
        "id": "5MgbmF9VrtZ4"
      },
      "source": [
        "model.compile(optimizer='adam', loss=loss)"
      ],
      "execution_count": 22,
      "outputs": []
    },
    {
      "cell_type": "code",
      "metadata": {
        "id": "m9zy88YhrvnP"
      },
      "source": [
        "# Directory where the checkpoints will be saved\n",
        "checkpoint_dir = './training_checkpoints'\n",
        "# Name of the checkpoint files\n",
        "checkpoint_prefix = os.path.join(checkpoint_dir, \"ckpt_{epoch}\")\n",
        "\n",
        "checkpoint_callback=tf.keras.callbacks.ModelCheckpoint(\n",
        "    filepath=checkpoint_prefix,\n",
        "    save_weights_only=True)"
      ],
      "execution_count": 23,
      "outputs": []
    },
    {
      "cell_type": "code",
      "metadata": {
        "id": "TAobqjd7ryCr",
        "outputId": "32902733-fc48-4cab-9a23-f3c955a7a806",
        "colab": {
          "base_uri": "https://localhost:8080/",
          "height": 752
        }
      },
      "source": [
        "history = model.fit(data, epochs=20, callbacks=[checkpoint_callback])"
      ],
      "execution_count": 25,
      "outputs": [
        {
          "output_type": "stream",
          "text": [
            "Epoch 1/20\n",
            "172/172 [==============================] - 12s 69ms/step - loss: 1.2691\n",
            "Epoch 2/20\n",
            "172/172 [==============================] - 12s 69ms/step - loss: 1.2355\n",
            "Epoch 3/20\n",
            "172/172 [==============================] - 12s 70ms/step - loss: 1.2030\n",
            "Epoch 4/20\n",
            "172/172 [==============================] - 12s 70ms/step - loss: 1.1692\n",
            "Epoch 5/20\n",
            "172/172 [==============================] - 12s 70ms/step - loss: 1.1344\n",
            "Epoch 6/20\n",
            "172/172 [==============================] - 12s 70ms/step - loss: 1.0993\n",
            "Epoch 7/20\n",
            "172/172 [==============================] - 12s 71ms/step - loss: 1.0618\n",
            "Epoch 8/20\n",
            "172/172 [==============================] - 12s 71ms/step - loss: 1.0231\n",
            "Epoch 9/20\n",
            "172/172 [==============================] - 12s 72ms/step - loss: 0.9831\n",
            "Epoch 10/20\n",
            "172/172 [==============================] - 12s 72ms/step - loss: 0.9435\n",
            "Epoch 11/20\n",
            "172/172 [==============================] - 12s 72ms/step - loss: 0.9044\n",
            "Epoch 12/20\n",
            "172/172 [==============================] - 12s 72ms/step - loss: 0.8647\n",
            "Epoch 13/20\n",
            "172/172 [==============================] - 12s 72ms/step - loss: 0.8278\n",
            "Epoch 14/20\n",
            "172/172 [==============================] - 12s 72ms/step - loss: 0.7919\n",
            "Epoch 15/20\n",
            "172/172 [==============================] - 13s 73ms/step - loss: 0.7581\n",
            "Epoch 16/20\n",
            "172/172 [==============================] - 13s 73ms/step - loss: 0.7275\n",
            "Epoch 17/20\n",
            "172/172 [==============================] - 13s 73ms/step - loss: 0.6969\n",
            "Epoch 18/20\n",
            "172/172 [==============================] - 13s 73ms/step - loss: 0.6705\n",
            "Epoch 19/20\n",
            "172/172 [==============================] - 13s 73ms/step - loss: 0.6458\n",
            "Epoch 20/20\n",
            "172/172 [==============================] - 13s 73ms/step - loss: 0.6253\n"
          ],
          "name": "stdout"
        }
      ]
    },
    {
      "cell_type": "code",
      "metadata": {
        "id": "wVce1r9or425"
      },
      "source": [
        "model = build_model(VOCAB_SIZE, EMBEDDING_DIM, RNN_UNITS, batch_size=1)"
      ],
      "execution_count": 26,
      "outputs": []
    },
    {
      "cell_type": "code",
      "metadata": {
        "id": "RCg0bueRr7WF"
      },
      "source": [
        "model.load_weights(tf.train.latest_checkpoint(checkpoint_dir))\n",
        "model.build(tf.TensorShape([1, None]))"
      ],
      "execution_count": 27,
      "outputs": []
    },
    {
      "cell_type": "code",
      "metadata": {
        "id": "MuggZlF2r7ee"
      },
      "source": [
        "checkpoint_num = 10\n",
        "model.load_weights(tf.train.load_checkpoint(\"./training_checkpoints/ckpt_\" + str(checkpoint_num)))\n",
        "model.build(tf.TensorShape([1, None]))"
      ],
      "execution_count": null,
      "outputs": []
    },
    {
      "cell_type": "code",
      "metadata": {
        "id": "Xv7KOpaPr7nw"
      },
      "source": [
        "def generate_text(model, start_string):\n",
        "  # Evaluation step (generating text using the learned model)\n",
        "\n",
        "  # Number of characters to generate\n",
        "  num_generate = 800\n",
        "\n",
        "  # Converting our start string to numbers (vectorizing)\n",
        "  input_eval = [char2idx[s] for s in start_string]\n",
        "  input_eval = tf.expand_dims(input_eval, 0)\n",
        "\n",
        "  # Empty string to store our results\n",
        "  text_generated = []\n",
        "\n",
        "  # Low temperatures results in more predictable text.\n",
        "  # Higher temperatures results in more surprising text.\n",
        "  # Experiment to find the best setting.\n",
        "  temperature = 1.0\n",
        "\n",
        "  # Here batch size == 1\n",
        "  model.reset_states()\n",
        "  for i in range(num_generate):\n",
        "      predictions = model(input_eval)\n",
        "      # remove the batch dimension\n",
        "    \n",
        "      predictions = tf.squeeze(predictions, 0)\n",
        "\n",
        "      # using a categorical distribution to predict the character returned by the model\n",
        "      predictions = predictions / temperature\n",
        "      predicted_id = tf.random.categorical(predictions, num_samples=1)[-1,0].numpy()\n",
        "\n",
        "      # We pass the predicted character as the next input to the model\n",
        "      # along with the previous hidden state\n",
        "      input_eval = tf.expand_dims([predicted_id], 0)\n",
        "\n",
        "      text_generated.append(idx2char[predicted_id])\n",
        "\n",
        "  return (start_string + ''.join(text_generated))"
      ],
      "execution_count": 31,
      "outputs": []
    },
    {
      "cell_type": "code",
      "metadata": {
        "id": "prLGbNxur7ze",
        "outputId": "bea61006-0363-4f5e-b6f6-1534f90675c0",
        "colab": {
          "base_uri": "https://localhost:8080/",
          "height": 550
        }
      },
      "source": [
        "inp = input(\"Type a starting string: \")\n",
        "print(generate_text(model, inp))"
      ],
      "execution_count": 33,
      "outputs": [
        {
          "output_type": "stream",
          "text": [
            "Type a starting string: king\n",
            "kings, sits and fight.\n",
            "\n",
            "Servant:\n",
            "He were my man or foesand counsel: that\n",
            "it confess I with some fever of grival bosom:\n",
            "The provost knows your garlands; for thou shalt be\n",
            "poor; but that we never meet thye any thing to me;\n",
            "My insignance say at, thou hast an earth\n",
            "His time let you not hore.\n",
            "\n",
            "PROSPERO:\n",
            "Not so leave, though beauty shall be to London.\n",
            "\n",
            "JULIET:\n",
            "Go with me, if he slew thy miserable.\n",
            "Pruck to my counsel: think on the Tower,\n",
            "Where you will part of any remember towns?\n",
            "The respects for merry, grantame I do wear the crown. Romeo!\n",
            "O, she had done--bouble youth,\n",
            "Give me your worship for my price.\n",
            "You twelve says\n",
            "My fair Bianca, being to the sea\n",
            "And credul dis in my part, for your grace, you would\n",
            "Have danced by your desperate; young queen,\n",
            "Which now for one more power.\n",
            "\n",
            "CORIOLANUS:\n",
            "I would r\n"
          ],
          "name": "stdout"
        }
      ]
    }
  ]
}